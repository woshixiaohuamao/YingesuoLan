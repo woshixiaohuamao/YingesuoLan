{
 "cells": [
  {
   "cell_type": "code",
   "execution_count": 2,
   "id": "3000c186",
   "metadata": {},
   "outputs": [],
   "source": [
    "import pandas as pd\n",
    "\n",
    "file_path = r'D:\\Aa中工互联\\工作安排\\英格索兰\\code\\预测\\lstm\\data\\点位信息.xlsx'\n",
    "df = pd.read_excel(file_path)"
   ]
  },
  {
   "cell_type": "code",
   "execution_count": 5,
   "id": "c0049647",
   "metadata": {},
   "outputs": [
    {
     "data": {
      "text/plain": [
       "Index(['time', 'DLDZ_AVS_KYJ01_YI01.PV', 'DLDZ_AVS_KYJ02_YI01.PV',\n",
       "       'DLDZ_AVS_KYJ03_YI01.PV', 'DLDZ_AVS_KYJ04_YI01.PV',\n",
       "       'DLDZ_AVS_KYJ05_YI01.PV', 'DLDZ_DQ200_LLJ01_FI01.PV',\n",
       "       'DLDZ_AVS_LLJ01_FI01.PV'],\n",
       "      dtype='object')"
      ]
     },
     "execution_count": 5,
     "metadata": {},
     "output_type": "execute_result"
    }
   ],
   "source": [
    "df.columns"
   ]
  }
 ],
 "metadata": {
  "kernelspec": {
   "display_name": ".venv",
   "language": "python",
   "name": "python3"
  },
  "language_info": {
   "codemirror_mode": {
    "name": "ipython",
    "version": 3
   },
   "file_extension": ".py",
   "mimetype": "text/x-python",
   "name": "python",
   "nbconvert_exporter": "python",
   "pygments_lexer": "ipython3",
   "version": "3.8.0"
  }
 },
 "nbformat": 4,
 "nbformat_minor": 5
}
